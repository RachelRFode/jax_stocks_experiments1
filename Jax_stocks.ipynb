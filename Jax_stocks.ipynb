{
  "nbformat": 4,
  "nbformat_minor": 0,
  "metadata": {
    "colab": {
      "name": "Jax-stocks.ipynb",
      "provenance": [],
      "collapsed_sections": [],
      "include_colab_link": true
    },
    "kernelspec": {
      "name": "python3",
      "display_name": "Python 3"
    },
    "accelerator": "GPU"
  },
  "cells": [
    {
      "cell_type": "markdown",
      "metadata": {
        "id": "view-in-github",
        "colab_type": "text"
      },
      "source": [
        "<a href=\"https://colab.research.google.com/github/RachelRFode/jax_stocks_experiments1/blob/master/Jax_stocks.ipynb\" target=\"_parent\"><img src=\"https://colab.research.google.com/assets/colab-badge.svg\" alt=\"Open In Colab\"/></a>"
      ]
    },
    {
      "cell_type": "markdown",
      "metadata": {
        "id": "2v6YwwiA8bNO",
        "colab_type": "text"
      },
      "source": [
        "#References"
      ]
    },
    {
      "cell_type": "markdown",
      "metadata": {
        "id": "DqnjfiHu8fUv",
        "colab_type": "text"
      },
      "source": [
        "https://colab.research.google.com/github/google/jax/blob/master/docs/notebooks/autodiff_cookbook.ipynb"
      ]
    },
    {
      "cell_type": "markdown",
      "metadata": {
        "id": "lr6UaiOj9OLm",
        "colab_type": "text"
      },
      "source": [
        "https://colab.research.google.com/github/google/jax/blob/master/docs/notebooks/quickstart.ipynb"
      ]
    },
    {
      "cell_type": "code",
      "metadata": {
        "id": "FwI6_9q4NanR",
        "colab_type": "code",
        "colab": {}
      },
      "source": [
        ""
      ],
      "execution_count": 0,
      "outputs": []
    },
    {
      "cell_type": "markdown",
      "metadata": {
        "id": "QJcKxw8u5AH7",
        "colab_type": "text"
      },
      "source": [
        "# Retrieve stocks"
      ]
    },
    {
      "cell_type": "markdown",
      "metadata": {
        "id": "ZOY-CVvs5eMA",
        "colab_type": "text"
      },
      "source": [
        "Install and import alpaca trade api that allows you to get stock data and simulate trades"
      ]
    },
    {
      "cell_type": "code",
      "metadata": {
        "id": "cfXMV2ZU46cH",
        "colab_type": "code",
        "outputId": "ead28e3c-41de-475c-ef8a-b0536bf593f4",
        "colab": {
          "base_uri": "https://localhost:8080/",
          "height": 496
        }
      },
      "source": [
        "!pip install alpaca-trade-api"
      ],
      "execution_count": 0,
      "outputs": [
        {
          "output_type": "stream",
          "text": [
            "Collecting alpaca-trade-api\n",
            "  Downloading https://files.pythonhosted.org/packages/12/fb/5321adae66f667a6196b24d7b4770319705573df795a367db49ec45e4e46/alpaca_trade_api-0.41-py3-none-any.whl\n",
            "Collecting websocket-client\n",
            "\u001b[?25l  Downloading https://files.pythonhosted.org/packages/29/19/44753eab1fdb50770ac69605527e8859468f3c0fd7dc5a76dd9c4dbd7906/websocket_client-0.56.0-py2.py3-none-any.whl (200kB)\n",
            "\u001b[K     |████████████████████████████████| 204kB 9.2MB/s \n",
            "\u001b[?25hCollecting websockets>=8.0\n",
            "\u001b[?25l  Downloading https://files.pythonhosted.org/packages/f0/4b/ad228451b1c071c5c52616b7d4298ebcfcac5ae8515ede959db19e4cd56d/websockets-8.0.2-cp36-cp36m-manylinux1_x86_64.whl (72kB)\n",
            "\u001b[K     |████████████████████████████████| 81kB 9.7MB/s \n",
            "\u001b[?25hCollecting asyncio-nats-client\n",
            "  Downloading https://files.pythonhosted.org/packages/0a/10/2514910976d92a970fe3889ff29bbfff3613d942d90cd9f300ddd0b5fe4c/asyncio-nats-client-0.10.0.tar.gz\n",
            "Requirement already satisfied: urllib3<1.25 in /usr/local/lib/python3.6/dist-packages (from alpaca-trade-api) (1.24.3)\n",
            "Requirement already satisfied: pandas in /usr/local/lib/python3.6/dist-packages (from alpaca-trade-api) (0.25.2)\n",
            "Requirement already satisfied: requests in /usr/local/lib/python3.6/dist-packages (from alpaca-trade-api) (2.21.0)\n",
            "Requirement already satisfied: six in /usr/local/lib/python3.6/dist-packages (from websocket-client->alpaca-trade-api) (1.12.0)\n",
            "Requirement already satisfied: numpy>=1.13.3 in /usr/local/lib/python3.6/dist-packages (from pandas->alpaca-trade-api) (1.17.3)\n",
            "Requirement already satisfied: python-dateutil>=2.6.1 in /usr/local/lib/python3.6/dist-packages (from pandas->alpaca-trade-api) (2.6.1)\n",
            "Requirement already satisfied: pytz>=2017.2 in /usr/local/lib/python3.6/dist-packages (from pandas->alpaca-trade-api) (2018.9)\n",
            "Requirement already satisfied: idna<2.9,>=2.5 in /usr/local/lib/python3.6/dist-packages (from requests->alpaca-trade-api) (2.8)\n",
            "Requirement already satisfied: chardet<3.1.0,>=3.0.2 in /usr/local/lib/python3.6/dist-packages (from requests->alpaca-trade-api) (3.0.4)\n",
            "Requirement already satisfied: certifi>=2017.4.17 in /usr/local/lib/python3.6/dist-packages (from requests->alpaca-trade-api) (2019.9.11)\n",
            "Building wheels for collected packages: asyncio-nats-client\n",
            "  Building wheel for asyncio-nats-client (setup.py) ... \u001b[?25l\u001b[?25hdone\n",
            "  Created wheel for asyncio-nats-client: filename=asyncio_nats_client-0.10.0-cp36-none-any.whl size=21612 sha256=0092c485b84864b41ec91649a81a996731fa87bfe868331fea7e0452f49073e7\n",
            "  Stored in directory: /root/.cache/pip/wheels/21/41/ba/99c64794c44114bce891c814c6e242a152340c978c5907a82b\n",
            "Successfully built asyncio-nats-client\n",
            "Installing collected packages: websocket-client, websockets, asyncio-nats-client, alpaca-trade-api\n",
            "Successfully installed alpaca-trade-api-0.41 asyncio-nats-client-0.10.0 websocket-client-0.56.0 websockets-8.0.2\n"
          ],
          "name": "stdout"
        }
      ]
    },
    {
      "cell_type": "code",
      "metadata": {
        "id": "ZISlFjY3-Bwb",
        "colab_type": "code",
        "cellView": "both",
        "colab": {}
      },
      "source": [
        "#@title Default title text\n",
        "API_ID = \"\" #@param {type:\"string\"}\n",
        "API_KEY = \"\" #@param {type:\"string\"}"
      ],
      "execution_count": 0,
      "outputs": []
    },
    {
      "cell_type": "code",
      "metadata": {
        "id": "hV2u8IZG5_CH",
        "colab_type": "code",
        "colab": {}
      },
      "source": [
        "import alpaca_trade_api as alpaca\n",
        "api = alpaca.REST(API_ID, API_KEY, 'https://paper-api.alpaca.markets')"
      ],
      "execution_count": 0,
      "outputs": []
    },
    {
      "cell_type": "markdown",
      "metadata": {
        "id": "BVriLLkF4_By",
        "colab_type": "text"
      },
      "source": [
        "Submit an order"
      ]
    },
    {
      "cell_type": "code",
      "metadata": {
        "id": "8_Eq7bou6fJE",
        "colab_type": "code",
        "outputId": "ef35c03f-dcb0-4ee9-8a88-39d1128321e5",
        "colab": {
          "base_uri": "https://localhost:8080/",
          "height": 459
        }
      },
      "source": [
        "api.get_account()"
      ],
      "execution_count": 0,
      "outputs": [
        {
          "output_type": "execute_result",
          "data": {
            "text/plain": [
              "Account({   'account_blocked': False,\n",
              "    'account_number': 'PA2CY6CKHNZ3',\n",
              "    'buying_power': '398475.95',\n",
              "    'cash': '98830.34',\n",
              "    'created_at': '2019-10-11T03:44:03.796434Z',\n",
              "    'currency': 'USD',\n",
              "    'daytrade_count': 0,\n",
              "    'daytrading_buying_power': '398475.95',\n",
              "    'equity': '100046.79',\n",
              "    'id': 'dc7e585b-83a9-4f00-a2ad-21d68aec3366',\n",
              "    'initial_margin': '732.91',\n",
              "    'last_equity': '100046.04',\n",
              "    'last_maintenance_margin': '364.71',\n",
              "    'long_market_value': '1216.45',\n",
              "    'maintenance_margin': '364.935',\n",
              "    'multiplier': '4',\n",
              "    'pattern_day_trader': False,\n",
              "    'portfolio_value': '100046.79',\n",
              "    'regt_buying_power': '198627.76',\n",
              "    'short_market_value': '0',\n",
              "    'shorting_enabled': True,\n",
              "    'sma': '0',\n",
              "    'status': 'ACTIVE',\n",
              "    'trade_suspended_by_user': False,\n",
              "    'trading_blocked': False,\n",
              "    'transfers_blocked': False})"
            ]
          },
          "metadata": {
            "tags": []
          },
          "execution_count": 16
        }
      ]
    },
    {
      "cell_type": "code",
      "metadata": {
        "id": "A2fEsbO66lhe",
        "colab_type": "code",
        "outputId": "1fb72cb8-63d2-407e-c391-a99b7ba90b29",
        "colab": {
          "base_uri": "https://localhost:8080/",
          "height": 459
        }
      },
      "source": [
        "api.submit_order('AAPL', side='buy', qty=1, type='market', time_in_force='gtc')"
      ],
      "execution_count": 0,
      "outputs": [
        {
          "output_type": "execute_result",
          "data": {
            "text/plain": [
              "Order({   'asset_class': 'us_equity',\n",
              "    'asset_id': 'b0b6dd9d-8b9b-48a9-ba46-b9d54906e415',\n",
              "    'canceled_at': None,\n",
              "    'client_order_id': '334bc290-f916-40c7-aaef-8de4e91720c4',\n",
              "    'created_at': '2019-10-25T03:42:22.842468941Z',\n",
              "    'expired_at': None,\n",
              "    'extended_hours': False,\n",
              "    'failed_at': None,\n",
              "    'filled_at': None,\n",
              "    'filled_avg_price': None,\n",
              "    'filled_qty': '0',\n",
              "    'id': 'd0fc5225-f5e1-489a-ae53-800192e68a40',\n",
              "    'limit_price': None,\n",
              "    'order_type': 'market',\n",
              "    'qty': '1',\n",
              "    'replaced_at': None,\n",
              "    'replaced_by': None,\n",
              "    'replaces': None,\n",
              "    'side': 'buy',\n",
              "    'status': 'new',\n",
              "    'stop_price': None,\n",
              "    'submitted_at': '2019-10-25T03:42:22.829329879Z',\n",
              "    'symbol': 'AAPL',\n",
              "    'time_in_force': 'gtc',\n",
              "    'type': 'market',\n",
              "    'updated_at': '2019-10-25T03:42:22.847795593Z'})"
            ]
          },
          "metadata": {
            "tags": []
          },
          "execution_count": 17
        }
      ]
    },
    {
      "cell_type": "markdown",
      "metadata": {
        "id": "7tqI6TUj7gEG",
        "colab_type": "text"
      },
      "source": [
        "See you positions during market open"
      ]
    },
    {
      "cell_type": "code",
      "metadata": {
        "id": "zOFfoDUr6v7l",
        "colab_type": "code",
        "outputId": "0b6407e4-90bc-45c9-a613-238902056e7d",
        "colab": {
          "base_uri": "https://localhost:8080/",
          "height": 289
        }
      },
      "source": [
        "api.list_positions()"
      ],
      "execution_count": 0,
      "outputs": [
        {
          "output_type": "execute_result",
          "data": {
            "text/plain": [
              "[Position({   'asset_class': 'us_equity',\n",
              "     'asset_id': 'b0b6dd9d-8b9b-48a9-ba46-b9d54906e415',\n",
              "     'avg_entry_price': '233.932',\n",
              "     'change_today': '0.0004523398305782',\n",
              "     'cost_basis': '1169.66',\n",
              "     'current_price': '243.29',\n",
              "     'exchange': 'NASDAQ',\n",
              "     'lastday_price': '243.18',\n",
              "     'market_value': '1216.45',\n",
              "     'qty': '5',\n",
              "     'side': 'long',\n",
              "     'symbol': 'AAPL',\n",
              "     'unrealized_intraday_pl': '0.55',\n",
              "     'unrealized_intraday_plpc': '0.0004523398305782',\n",
              "     'unrealized_pl': '46.79',\n",
              "     'unrealized_plpc': '0.0400030778174854'})]"
            ]
          },
          "metadata": {
            "tags": []
          },
          "execution_count": 18
        }
      ]
    },
    {
      "cell_type": "markdown",
      "metadata": {
        "id": "FbAEe7UK7kTQ",
        "colab_type": "text"
      },
      "source": [
        "See your orders"
      ]
    },
    {
      "cell_type": "code",
      "metadata": {
        "id": "3AD7iHPh61hn",
        "colab_type": "code",
        "outputId": "079370e5-84ad-4b4b-f35c-cb680b2066b5",
        "colab": {
          "base_uri": "https://localhost:8080/",
          "height": 901
        }
      },
      "source": [
        "api.list_orders()"
      ],
      "execution_count": 0,
      "outputs": [
        {
          "output_type": "execute_result",
          "data": {
            "text/plain": [
              "[Order({   'asset_class': 'us_equity',\n",
              "     'asset_id': 'b0b6dd9d-8b9b-48a9-ba46-b9d54906e415',\n",
              "     'canceled_at': None,\n",
              "     'client_order_id': '334bc290-f916-40c7-aaef-8de4e91720c4',\n",
              "     'created_at': '2019-10-25T03:42:22.842469Z',\n",
              "     'expired_at': None,\n",
              "     'extended_hours': False,\n",
              "     'failed_at': None,\n",
              "     'filled_at': None,\n",
              "     'filled_avg_price': None,\n",
              "     'filled_qty': '0',\n",
              "     'id': 'd0fc5225-f5e1-489a-ae53-800192e68a40',\n",
              "     'limit_price': None,\n",
              "     'order_type': 'market',\n",
              "     'qty': '1',\n",
              "     'replaced_at': None,\n",
              "     'replaced_by': None,\n",
              "     'replaces': None,\n",
              "     'side': 'buy',\n",
              "     'status': 'new',\n",
              "     'stop_price': None,\n",
              "     'submitted_at': '2019-10-25T03:42:22.82933Z',\n",
              "     'symbol': 'AAPL',\n",
              "     'time_in_force': 'gtc',\n",
              "     'type': 'market',\n",
              "     'updated_at': '2019-10-25T03:42:22.847796Z'}),\n",
              " Order({   'asset_class': 'us_equity',\n",
              "     'asset_id': 'b0b6dd9d-8b9b-48a9-ba46-b9d54906e415',\n",
              "     'canceled_at': None,\n",
              "     'client_order_id': '85cd0a74-2e6f-44a2-a4cb-241a4e8d472f',\n",
              "     'created_at': '2019-10-25T03:39:42.784536Z',\n",
              "     'expired_at': None,\n",
              "     'extended_hours': False,\n",
              "     'failed_at': None,\n",
              "     'filled_at': None,\n",
              "     'filled_avg_price': None,\n",
              "     'filled_qty': '0',\n",
              "     'id': '94fcc0be-7448-4613-b143-4e4f7d33ebaf',\n",
              "     'limit_price': None,\n",
              "     'order_type': 'market',\n",
              "     'qty': '1',\n",
              "     'replaced_at': None,\n",
              "     'replaced_by': None,\n",
              "     'replaces': None,\n",
              "     'side': 'buy',\n",
              "     'status': 'new',\n",
              "     'stop_price': None,\n",
              "     'submitted_at': '2019-10-25T03:39:42.771096Z',\n",
              "     'symbol': 'AAPL',\n",
              "     'time_in_force': 'gtc',\n",
              "     'type': 'market',\n",
              "     'updated_at': '2019-10-25T03:39:42.791226Z'})]"
            ]
          },
          "metadata": {
            "tags": []
          },
          "execution_count": 19
        }
      ]
    },
    {
      "cell_type": "markdown",
      "metadata": {
        "id": "7ypCKsx264gL",
        "colab_type": "text"
      },
      "source": [
        "#Graph data"
      ]
    },
    {
      "cell_type": "markdown",
      "metadata": {
        "id": "sm_7-Upe75jQ",
        "colab_type": "text"
      },
      "source": [
        "Show data"
      ]
    },
    {
      "cell_type": "code",
      "metadata": {
        "id": "P6AQU0PP67RL",
        "colab_type": "code",
        "colab": {}
      },
      "source": [
        "count = 1000\n",
        "df1 = api.get_barset('BUD', 'day', limit=count).df"
      ],
      "execution_count": 0,
      "outputs": []
    },
    {
      "cell_type": "code",
      "metadata": {
        "id": "3S5lF9kTAnG-",
        "colab_type": "code",
        "colab": {}
      },
      "source": [
        "df2 = api.get_barset('BREW', 'day', limit=count).df\n",
        "df3 = api.get_barset('DEO', 'day', limit=count).df\n",
        "df4 = api.get_barset('PFE', 'day', limit=count).df"
      ],
      "execution_count": 0,
      "outputs": []
    },
    {
      "cell_type": "markdown",
      "metadata": {
        "id": "S357b42b68f-",
        "colab_type": "text"
      },
      "source": [
        "Candlestick graph"
      ]
    },
    {
      "cell_type": "code",
      "metadata": {
        "id": "IdHCmbHO7FfB",
        "colab_type": "code",
        "outputId": "f3136534-10d7-4436-c899-9f3201efe16e",
        "colab": {
          "base_uri": "https://localhost:8080/",
          "height": 326
        }
      },
      "source": [
        "!pip install mpl_finance"
      ],
      "execution_count": 0,
      "outputs": [
        {
          "output_type": "stream",
          "text": [
            "Collecting mpl_finance\n",
            "  Downloading https://files.pythonhosted.org/packages/d3/83/92f0593ea39122075d115d2578034283bcc790f679cdbe61d0d3902c59f1/mpl_finance-0.10.0.tar.gz\n",
            "Requirement already satisfied: matplotlib in /usr/local/lib/python3.6/dist-packages (from mpl_finance) (3.1.1)\n",
            "Requirement already satisfied: cycler>=0.10 in /usr/local/lib/python3.6/dist-packages (from matplotlib->mpl_finance) (0.10.0)\n",
            "Requirement already satisfied: kiwisolver>=1.0.1 in /usr/local/lib/python3.6/dist-packages (from matplotlib->mpl_finance) (1.1.0)\n",
            "Requirement already satisfied: numpy>=1.11 in /usr/local/lib/python3.6/dist-packages (from matplotlib->mpl_finance) (1.17.3)\n",
            "Requirement already satisfied: pyparsing!=2.0.4,!=2.1.2,!=2.1.6,>=2.0.1 in /usr/local/lib/python3.6/dist-packages (from matplotlib->mpl_finance) (2.4.2)\n",
            "Requirement already satisfied: python-dateutil>=2.1 in /usr/local/lib/python3.6/dist-packages (from matplotlib->mpl_finance) (2.6.1)\n",
            "Requirement already satisfied: six in /usr/local/lib/python3.6/dist-packages (from cycler>=0.10->matplotlib->mpl_finance) (1.12.0)\n",
            "Requirement already satisfied: setuptools in /usr/local/lib/python3.6/dist-packages (from kiwisolver>=1.0.1->matplotlib->mpl_finance) (41.4.0)\n",
            "Building wheels for collected packages: mpl-finance\n",
            "  Building wheel for mpl-finance (setup.py) ... \u001b[?25l\u001b[?25hdone\n",
            "  Created wheel for mpl-finance: filename=mpl_finance-0.10.0-cp36-none-any.whl size=5509 sha256=9a1c19a8621efcaa125192bdf606de0032eb938a40a0e8f2c6558abdbea98032\n",
            "  Stored in directory: /root/.cache/pip/wheels/67/db/24/04ddd06ec9a5e4500b44c13d8e95898f5b90b512303e385de8\n",
            "Successfully built mpl-finance\n",
            "Installing collected packages: mpl-finance\n",
            "Successfully installed mpl-finance-0.10.0\n"
          ],
          "name": "stdout"
        }
      ]
    },
    {
      "cell_type": "code",
      "metadata": {
        "id": "XtakmlGi7GUL",
        "colab_type": "code",
        "outputId": "05ee5c0c-df85-4d8a-94e6-93b0f21d4ad8",
        "colab": {
          "base_uri": "https://localhost:8080/",
          "height": 1000
        }
      },
      "source": [
        "from mpl_finance import candlestick_ohlc\n",
        "import matplotlib.pyplot as plt\n",
        "import matplotlib.dates as mdates\n",
        "from matplotlib.dates import MONDAY, DateFormatter, DayLocator, WeekdayLocator\n",
        "df = api.get_barset('AAPL', 'day', limit=253).df['AAPL']\n",
        "quotes = zip(mdates.date2num(df.index.to_pydatetime()),\n",
        "             df.open, df.high, df.low, df.close)\n",
        "fig, ax = plt.subplots(figsize=(20,10))\n",
        "ax.xaxis_date()\n",
        "ax.autoscale_view()\n",
        "alldays = DayLocator()\n",
        "ax.xaxis.set_minor_locator(alldays)\n",
        "candlestick_ohlc(ax, quotes, width=0.5, colorup='g', colordown='r')"
      ],
      "execution_count": 0,
      "outputs": [
        {
          "output_type": "execute_result",
          "data": {
            "text/plain": [
              "([<matplotlib.lines.Line2D at 0x7facb81a4fd0>,\n",
              "  <matplotlib.lines.Line2D at 0x7facb81b3828>,\n",
              "  <matplotlib.lines.Line2D at 0x7facb81b3e80>,\n",
              "  <matplotlib.lines.Line2D at 0x7facb81bf518>,\n",
              "  <matplotlib.lines.Line2D at 0x7facb81bfb70>,\n",
              "  <matplotlib.lines.Line2D at 0x7facb814e208>,\n",
              "  <matplotlib.lines.Line2D at 0x7facb814e860>,\n",
              "  <matplotlib.lines.Line2D at 0x7facb814eeb8>,\n",
              "  <matplotlib.lines.Line2D at 0x7facb815d550>,\n",
              "  <matplotlib.lines.Line2D at 0x7facb815dba8>,\n",
              "  <matplotlib.lines.Line2D at 0x7facb816f240>,\n",
              "  <matplotlib.lines.Line2D at 0x7facb816f898>,\n",
              "  <matplotlib.lines.Line2D at 0x7facb816fef0>,\n",
              "  <matplotlib.lines.Line2D at 0x7facb817b588>,\n",
              "  <matplotlib.lines.Line2D at 0x7facb817bbe0>,\n",
              "  <matplotlib.lines.Line2D at 0x7facb8112278>,\n",
              "  <matplotlib.lines.Line2D at 0x7facb81128d0>,\n",
              "  <matplotlib.lines.Line2D at 0x7facb8112f28>,\n",
              "  <matplotlib.lines.Line2D at 0x7facb81205c0>,\n",
              "  <matplotlib.lines.Line2D at 0x7facb8120c18>,\n",
              "  <matplotlib.lines.Line2D at 0x7facb812c2b0>,\n",
              "  <matplotlib.lines.Line2D at 0x7facb812c908>,\n",
              "  <matplotlib.lines.Line2D at 0x7facb812cf60>,\n",
              "  <matplotlib.lines.Line2D at 0x7facb81395f8>,\n",
              "  <matplotlib.lines.Line2D at 0x7facb8139c50>,\n",
              "  <matplotlib.lines.Line2D at 0x7facb81422e8>,\n",
              "  <matplotlib.lines.Line2D at 0x7facb8142940>,\n",
              "  <matplotlib.lines.Line2D at 0x7facb8142f98>,\n",
              "  <matplotlib.lines.Line2D at 0x7facb80d3630>,\n",
              "  <matplotlib.lines.Line2D at 0x7facb80d3c88>,\n",
              "  <matplotlib.lines.Line2D at 0x7facb80dd320>,\n",
              "  <matplotlib.lines.Line2D at 0x7facb80dd978>,\n",
              "  <matplotlib.lines.Line2D at 0x7facb80ddfd0>,\n",
              "  <matplotlib.lines.Line2D at 0x7facb80eb668>,\n",
              "  <matplotlib.lines.Line2D at 0x7facb80ebcc0>,\n",
              "  <matplotlib.lines.Line2D at 0x7facb80f8358>,\n",
              "  <matplotlib.lines.Line2D at 0x7facb80f89b0>,\n",
              "  <matplotlib.lines.Line2D at 0x7facb80f8fd0>,\n",
              "  <matplotlib.lines.Line2D at 0x7facb81036a0>,\n",
              "  <matplotlib.lines.Line2D at 0x7facb8103cf8>,\n",
              "  <matplotlib.lines.Line2D at 0x7facb808f390>,\n",
              "  <matplotlib.lines.Line2D at 0x7facb808f9e8>,\n",
              "  <matplotlib.lines.Line2D at 0x7facb809b080>,\n",
              "  <matplotlib.lines.Line2D at 0x7facb809b6d8>,\n",
              "  <matplotlib.lines.Line2D at 0x7facb809bd30>,\n",
              "  <matplotlib.lines.Line2D at 0x7facb80a83c8>,\n",
              "  <matplotlib.lines.Line2D at 0x7facb80a8a20>,\n",
              "  <matplotlib.lines.Line2D at 0x7facb80b50b8>,\n",
              "  <matplotlib.lines.Line2D at 0x7facb80b5710>,\n",
              "  <matplotlib.lines.Line2D at 0x7facb80b5d68>,\n",
              "  <matplotlib.lines.Line2D at 0x7facb80c1400>,\n",
              "  <matplotlib.lines.Line2D at 0x7facb80c1a58>,\n",
              "  <matplotlib.lines.Line2D at 0x7facb804e0f0>,\n",
              "  <matplotlib.lines.Line2D at 0x7facb804e748>,\n",
              "  <matplotlib.lines.Line2D at 0x7facb804eda0>,\n",
              "  <matplotlib.lines.Line2D at 0x7facb805a438>,\n",
              "  <matplotlib.lines.Line2D at 0x7facb805aa90>,\n",
              "  <matplotlib.lines.Line2D at 0x7facb8066128>,\n",
              "  <matplotlib.lines.Line2D at 0x7facb8066780>,\n",
              "  <matplotlib.lines.Line2D at 0x7facb8066dd8>,\n",
              "  <matplotlib.lines.Line2D at 0x7facb80b2470>,\n",
              "  <matplotlib.lines.Line2D at 0x7facb80b2ac8>,\n",
              "  <matplotlib.lines.Line2D at 0x7facb807f160>,\n",
              "  <matplotlib.lines.Line2D at 0x7facb807f7b8>,\n",
              "  <matplotlib.lines.Line2D at 0x7facb807fe10>,\n",
              "  <matplotlib.lines.Line2D at 0x7facb808b4a8>,\n",
              "  <matplotlib.lines.Line2D at 0x7facb808bb00>,\n",
              "  <matplotlib.lines.Line2D at 0x7facb8017198>,\n",
              "  <matplotlib.lines.Line2D at 0x7facb80177f0>,\n",
              "  <matplotlib.lines.Line2D at 0x7facb8017e48>,\n",
              "  <matplotlib.lines.Line2D at 0x7facb80254e0>,\n",
              "  <matplotlib.lines.Line2D at 0x7facb8025b38>,\n",
              "  <matplotlib.lines.Line2D at 0x7facb80311d0>,\n",
              "  <matplotlib.lines.Line2D at 0x7facb8031828>,\n",
              "  <matplotlib.lines.Line2D at 0x7facb8031e80>,\n",
              "  <matplotlib.lines.Line2D at 0x7facb803e518>,\n",
              "  <matplotlib.lines.Line2D at 0x7facb803eb70>,\n",
              "  <matplotlib.lines.Line2D at 0x7facb804a208>,\n",
              "  <matplotlib.lines.Line2D at 0x7facb804a860>,\n",
              "  <matplotlib.lines.Line2D at 0x7facb804aeb8>,\n",
              "  <matplotlib.lines.Line2D at 0x7facb7fd6550>,\n",
              "  <matplotlib.lines.Line2D at 0x7facb7fd6ba8>,\n",
              "  <matplotlib.lines.Line2D at 0x7facb7fe2240>,\n",
              "  <matplotlib.lines.Line2D at 0x7facb7fe2898>,\n",
              "  <matplotlib.lines.Line2D at 0x7facb7fe2ef0>,\n",
              "  <matplotlib.lines.Line2D at 0x7facb7fee588>,\n",
              "  <matplotlib.lines.Line2D at 0x7facb7feebe0>,\n",
              "  <matplotlib.lines.Line2D at 0x7facb7ffa278>,\n",
              "  <matplotlib.lines.Line2D at 0x7facb7ffa8d0>,\n",
              "  <matplotlib.lines.Line2D at 0x7facb7ffaf28>,\n",
              "  <matplotlib.lines.Line2D at 0x7facb80085c0>,\n",
              "  <matplotlib.lines.Line2D at 0x7facb8008c18>,\n",
              "  <matplotlib.lines.Line2D at 0x7facb7f942b0>,\n",
              "  <matplotlib.lines.Line2D at 0x7facb7f94908>,\n",
              "  <matplotlib.lines.Line2D at 0x7facb7f94f60>,\n",
              "  <matplotlib.lines.Line2D at 0x7facb7fa15f8>,\n",
              "  <matplotlib.lines.Line2D at 0x7facb7fa1c50>,\n",
              "  <matplotlib.lines.Line2D at 0x7facb7fac2e8>,\n",
              "  <matplotlib.lines.Line2D at 0x7facb7fac940>,\n",
              "  <matplotlib.lines.Line2D at 0x7facb7facf98>,\n",
              "  <matplotlib.lines.Line2D at 0x7facb7fb9630>,\n",
              "  <matplotlib.lines.Line2D at 0x7facb7fb9c50>,\n",
              "  <matplotlib.lines.Line2D at 0x7facb7fc52b0>,\n",
              "  <matplotlib.lines.Line2D at 0x7facb7fc58d0>,\n",
              "  <matplotlib.lines.Line2D at 0x7facb7fc5ef0>,\n",
              "  <matplotlib.lines.Line2D at 0x7facb7f53550>,\n",
              "  <matplotlib.lines.Line2D at 0x7facb7f53b70>,\n",
              "  <matplotlib.lines.Line2D at 0x7facb7f5e1d0>,\n",
              "  <matplotlib.lines.Line2D at 0x7facb7f5e7f0>,\n",
              "  <matplotlib.lines.Line2D at 0x7facb7f5ee10>,\n",
              "  <matplotlib.lines.Line2D at 0x7facb7f6d470>,\n",
              "  <matplotlib.lines.Line2D at 0x7facb7f6da90>,\n",
              "  <matplotlib.lines.Line2D at 0x7facb7f7c0f0>,\n",
              "  <matplotlib.lines.Line2D at 0x7facb7f7c710>,\n",
              "  <matplotlib.lines.Line2D at 0x7facb7f7cd30>,\n",
              "  <matplotlib.lines.Line2D at 0x7facb7f86390>,\n",
              "  <matplotlib.lines.Line2D at 0x7facb7f869b0>,\n",
              "  <matplotlib.lines.Line2D at 0x7facb7f86fd0>,\n",
              "  <matplotlib.lines.Line2D at 0x7facb7f14630>,\n",
              "  <matplotlib.lines.Line2D at 0x7facb7f14c50>,\n",
              "  <matplotlib.lines.Line2D at 0x7facb7f222b0>,\n",
              "  <matplotlib.lines.Line2D at 0x7facb7f228d0>,\n",
              "  <matplotlib.lines.Line2D at 0x7facb7f22ef0>,\n",
              "  <matplotlib.lines.Line2D at 0x7facb7f30550>,\n",
              "  <matplotlib.lines.Line2D at 0x7facb7f30b70>,\n",
              "  <matplotlib.lines.Line2D at 0x7facb7f3a1d0>,\n",
              "  <matplotlib.lines.Line2D at 0x7facb7f3a7f0>,\n",
              "  <matplotlib.lines.Line2D at 0x7facb7f3ae10>,\n",
              "  <matplotlib.lines.Line2D at 0x7facb7f49470>,\n",
              "  <matplotlib.lines.Line2D at 0x7facb7f49a90>,\n",
              "  <matplotlib.lines.Line2D at 0x7facb7ed60f0>,\n",
              "  <matplotlib.lines.Line2D at 0x7facb7ed6710>,\n",
              "  <matplotlib.lines.Line2D at 0x7facb7ed6d30>,\n",
              "  <matplotlib.lines.Line2D at 0x7facb7ee3390>,\n",
              "  <matplotlib.lines.Line2D at 0x7facb7ee39b0>,\n",
              "  <matplotlib.lines.Line2D at 0x7facb7ee3fd0>,\n",
              "  <matplotlib.lines.Line2D at 0x7facb7ef0630>,\n",
              "  <matplotlib.lines.Line2D at 0x7facb7ef0c50>,\n",
              "  <matplotlib.lines.Line2D at 0x7facb7efc2b0>,\n",
              "  <matplotlib.lines.Line2D at 0x7facb7efc8d0>,\n",
              "  <matplotlib.lines.Line2D at 0x7facb7efcef0>,\n",
              "  <matplotlib.lines.Line2D at 0x7facb7f09550>,\n",
              "  <matplotlib.lines.Line2D at 0x7facb7f09b70>,\n",
              "  <matplotlib.lines.Line2D at 0x7facb7e971d0>,\n",
              "  <matplotlib.lines.Line2D at 0x7facb7e977f0>,\n",
              "  <matplotlib.lines.Line2D at 0x7facb7e97e10>,\n",
              "  <matplotlib.lines.Line2D at 0x7facb7ea3470>,\n",
              "  <matplotlib.lines.Line2D at 0x7facb7ea3a90>,\n",
              "  <matplotlib.lines.Line2D at 0x7facb7eb20f0>,\n",
              "  <matplotlib.lines.Line2D at 0x7facb7eb2710>,\n",
              "  <matplotlib.lines.Line2D at 0x7facb7eb2d30>,\n",
              "  <matplotlib.lines.Line2D at 0x7facb7ebe390>,\n",
              "  <matplotlib.lines.Line2D at 0x7facb7ebe9b0>,\n",
              "  <matplotlib.lines.Line2D at 0x7facb7ebefd0>,\n",
              "  <matplotlib.lines.Line2D at 0x7facb7ecc630>,\n",
              "  <matplotlib.lines.Line2D at 0x7facb7eccc50>,\n",
              "  <matplotlib.lines.Line2D at 0x7facb7e582b0>,\n",
              "  <matplotlib.lines.Line2D at 0x7facb7e588d0>,\n",
              "  <matplotlib.lines.Line2D at 0x7facb7e58ef0>,\n",
              "  <matplotlib.lines.Line2D at 0x7facb7e66550>,\n",
              "  <matplotlib.lines.Line2D at 0x7facb7e66b70>,\n",
              "  <matplotlib.lines.Line2D at 0x7facb7e721d0>,\n",
              "  <matplotlib.lines.Line2D at 0x7facb7e727f0>,\n",
              "  <matplotlib.lines.Line2D at 0x7facb7e72e10>,\n",
              "  <matplotlib.lines.Line2D at 0x7facb7e7e470>,\n",
              "  <matplotlib.lines.Line2D at 0x7facb7e7ea90>,\n",
              "  <matplotlib.lines.Line2D at 0x7facb7e8b0f0>,\n",
              "  <matplotlib.lines.Line2D at 0x7facb7e8b710>,\n",
              "  <matplotlib.lines.Line2D at 0x7facb7e8bd30>,\n",
              "  <matplotlib.lines.Line2D at 0x7facb7e19390>,\n",
              "  <matplotlib.lines.Line2D at 0x7facb7e199b0>,\n",
              "  <matplotlib.lines.Line2D at 0x7facb7e19fd0>,\n",
              "  <matplotlib.lines.Line2D at 0x7facb7e28630>,\n",
              "  <matplotlib.lines.Line2D at 0x7facb7e28c50>,\n",
              "  <matplotlib.lines.Line2D at 0x7facb7e342b0>,\n",
              "  <matplotlib.lines.Line2D at 0x7facb7e348d0>,\n",
              "  <matplotlib.lines.Line2D at 0x7facb7e34ef0>,\n",
              "  <matplotlib.lines.Line2D at 0x7facb7e43550>,\n",
              "  <matplotlib.lines.Line2D at 0x7facb7e43b70>,\n",
              "  <matplotlib.lines.Line2D at 0x7facb7dce1d0>,\n",
              "  <matplotlib.lines.Line2D at 0x7facb7dce7f0>,\n",
              "  <matplotlib.lines.Line2D at 0x7facb7dcee10>,\n",
              "  <matplotlib.lines.Line2D at 0x7facb7ddb470>,\n",
              "  <matplotlib.lines.Line2D at 0x7facb7ddba90>,\n",
              "  <matplotlib.lines.Line2D at 0x7facb7de90f0>,\n",
              "  <matplotlib.lines.Line2D at 0x7facb7de9710>,\n",
              "  <matplotlib.lines.Line2D at 0x7facb7de9d30>,\n",
              "  <matplotlib.lines.Line2D at 0x7facb7df5390>,\n",
              "  <matplotlib.lines.Line2D at 0x7facb7df59b0>,\n",
              "  <matplotlib.lines.Line2D at 0x7facb7df5fd0>,\n",
              "  <matplotlib.lines.Line2D at 0x7facb7e01630>,\n",
              "  <matplotlib.lines.Line2D at 0x7facb7e01c50>,\n",
              "  <matplotlib.lines.Line2D at 0x7facb7d8e2b0>,\n",
              "  <matplotlib.lines.Line2D at 0x7facb7d8e8d0>,\n",
              "  <matplotlib.lines.Line2D at 0x7facb7d8eef0>,\n",
              "  <matplotlib.lines.Line2D at 0x7facb7d9f550>,\n",
              "  <matplotlib.lines.Line2D at 0x7facb7d9fb70>,\n",
              "  <matplotlib.lines.Line2D at 0x7facb7dab1d0>,\n",
              "  <matplotlib.lines.Line2D at 0x7facb7dab7f0>,\n",
              "  <matplotlib.lines.Line2D at 0x7facb7dabe10>,\n",
              "  <matplotlib.lines.Line2D at 0x7facb7db7470>,\n",
              "  <matplotlib.lines.Line2D at 0x7facb7db7a90>,\n",
              "  <matplotlib.lines.Line2D at 0x7facb7dc30f0>,\n",
              "  <matplotlib.lines.Line2D at 0x7facb7dc3710>,\n",
              "  <matplotlib.lines.Line2D at 0x7facb7dc3d30>,\n",
              "  <matplotlib.lines.Line2D at 0x7facb7d4f390>,\n",
              "  <matplotlib.lines.Line2D at 0x7facb7d4f9b0>,\n",
              "  <matplotlib.lines.Line2D at 0x7facb7d4ffd0>,\n",
              "  <matplotlib.lines.Line2D at 0x7facb7d5f630>,\n",
              "  <matplotlib.lines.Line2D at 0x7facb7d5fc50>,\n",
              "  <matplotlib.lines.Line2D at 0x7facb7d6a2b0>,\n",
              "  <matplotlib.lines.Line2D at 0x7facb7d6a8d0>,\n",
              "  <matplotlib.lines.Line2D at 0x7facb7d6aef0>,\n",
              "  <matplotlib.lines.Line2D at 0x7facb7d78550>,\n",
              "  <matplotlib.lines.Line2D at 0x7facb7d78b70>,\n",
              "  <matplotlib.lines.Line2D at 0x7facb7d841d0>,\n",
              "  <matplotlib.lines.Line2D at 0x7facb7d847f0>,\n",
              "  <matplotlib.lines.Line2D at 0x7facb7d84e10>,\n",
              "  <matplotlib.lines.Line2D at 0x7facb7d12470>,\n",
              "  <matplotlib.lines.Line2D at 0x7facb7d12a90>,\n",
              "  <matplotlib.lines.Line2D at 0x7facb7d210f0>,\n",
              "  <matplotlib.lines.Line2D at 0x7facb7d21710>,\n",
              "  <matplotlib.lines.Line2D at 0x7facb7d21d30>,\n",
              "  <matplotlib.lines.Line2D at 0x7facb7d2e390>,\n",
              "  <matplotlib.lines.Line2D at 0x7facb7d2e9b0>,\n",
              "  <matplotlib.lines.Line2D at 0x7facb7d2efd0>,\n",
              "  <matplotlib.lines.Line2D at 0x7facb7d3a630>,\n",
              "  <matplotlib.lines.Line2D at 0x7facb7d3ac50>,\n",
              "  <matplotlib.lines.Line2D at 0x7facb7d462b0>,\n",
              "  <matplotlib.lines.Line2D at 0x7facb7d468d0>,\n",
              "  <matplotlib.lines.Line2D at 0x7facb7d46ef0>,\n",
              "  <matplotlib.lines.Line2D at 0x7facb7cd3550>,\n",
              "  <matplotlib.lines.Line2D at 0x7facb7cd3b70>,\n",
              "  <matplotlib.lines.Line2D at 0x7facb7ce01d0>,\n",
              "  <matplotlib.lines.Line2D at 0x7facb7ce07f0>,\n",
              "  <matplotlib.lines.Line2D at 0x7facb7ce0e10>,\n",
              "  <matplotlib.lines.Line2D at 0x7facb7cee470>,\n",
              "  <matplotlib.lines.Line2D at 0x7facb7ceea90>,\n",
              "  <matplotlib.lines.Line2D at 0x7facb7cfc0f0>,\n",
              "  <matplotlib.lines.Line2D at 0x7facb7cfc710>,\n",
              "  <matplotlib.lines.Line2D at 0x7facb7cfcd30>,\n",
              "  <matplotlib.lines.Line2D at 0x7facb7d07390>,\n",
              "  <matplotlib.lines.Line2D at 0x7facb7d079b0>,\n",
              "  <matplotlib.lines.Line2D at 0x7facb7d07fd0>,\n",
              "  <matplotlib.lines.Line2D at 0x7facb7c95630>,\n",
              "  <matplotlib.lines.Line2D at 0x7facb7c95c50>,\n",
              "  <matplotlib.lines.Line2D at 0x7facb7ca12b0>,\n",
              "  <matplotlib.lines.Line2D at 0x7facb7ca18d0>,\n",
              "  <matplotlib.lines.Line2D at 0x7facb7ca1ef0>,\n",
              "  <matplotlib.lines.Line2D at 0x7facb7cb1550>,\n",
              "  <matplotlib.lines.Line2D at 0x7facb7cb1b70>,\n",
              "  <matplotlib.lines.Line2D at 0x7facb7cbc1d0>,\n",
              "  <matplotlib.lines.Line2D at 0x7facb7cbc7f0>],\n",
              " [<matplotlib.patches.Rectangle at 0x7facb81b3390>,\n",
              "  <matplotlib.patches.Rectangle at 0x7facb81b39e8>,\n",
              "  <matplotlib.patches.Rectangle at 0x7facb81bf080>,\n",
              "  <matplotlib.patches.Rectangle at 0x7facb81bf6d8>,\n",
              "  <matplotlib.patches.Rectangle at 0x7facb81bfd30>,\n",
              "  <matplotlib.patches.Rectangle at 0x7facb814e3c8>,\n",
              "  <matplotlib.patches.Rectangle at 0x7facb814ea20>,\n",
              "  <matplotlib.patches.Rectangle at 0x7facb815d0b8>,\n",
              "  <matplotlib.patches.Rectangle at 0x7facb815d710>,\n",
              "  <matplotlib.patches.Rectangle at 0x7facb815dd68>,\n",
              "  <matplotlib.patches.Rectangle at 0x7facb816f400>,\n",
              "  <matplotlib.patches.Rectangle at 0x7facb816fa58>,\n",
              "  <matplotlib.patches.Rectangle at 0x7facb817b0f0>,\n",
              "  <matplotlib.patches.Rectangle at 0x7facb817b748>,\n",
              "  <matplotlib.patches.Rectangle at 0x7facb817bda0>,\n",
              "  <matplotlib.patches.Rectangle at 0x7facb8112438>,\n",
              "  <matplotlib.patches.Rectangle at 0x7facb8112a90>,\n",
              "  <matplotlib.patches.Rectangle at 0x7facb8120128>,\n",
              "  <matplotlib.patches.Rectangle at 0x7facb8120780>,\n",
              "  <matplotlib.patches.Rectangle at 0x7facb8120dd8>,\n",
              "  <matplotlib.patches.Rectangle at 0x7facb812c470>,\n",
              "  <matplotlib.patches.Rectangle at 0x7facb812cac8>,\n",
              "  <matplotlib.patches.Rectangle at 0x7facb8139160>,\n",
              "  <matplotlib.patches.Rectangle at 0x7facb81397b8>,\n",
              "  <matplotlib.patches.Rectangle at 0x7facb8139e10>,\n",
              "  <matplotlib.patches.Rectangle at 0x7facb81424a8>,\n",
              "  <matplotlib.patches.Rectangle at 0x7facb8142b00>,\n",
              "  <matplotlib.patches.Rectangle at 0x7facb80d3198>,\n",
              "  <matplotlib.patches.Rectangle at 0x7facb80d37f0>,\n",
              "  <matplotlib.patches.Rectangle at 0x7facb80d3e48>,\n",
              "  <matplotlib.patches.Rectangle at 0x7facb80dd4e0>,\n",
              "  <matplotlib.patches.Rectangle at 0x7facb80ddb38>,\n",
              "  <matplotlib.patches.Rectangle at 0x7facb80eb1d0>,\n",
              "  <matplotlib.patches.Rectangle at 0x7facb80eb828>,\n",
              "  <matplotlib.patches.Rectangle at 0x7facb80ebe80>,\n",
              "  <matplotlib.patches.Rectangle at 0x7facb80f8518>,\n",
              "  <matplotlib.patches.Rectangle at 0x7facb80f8b70>,\n",
              "  <matplotlib.patches.Rectangle at 0x7facb8103208>,\n",
              "  <matplotlib.patches.Rectangle at 0x7facb8103860>,\n",
              "  <matplotlib.patches.Rectangle at 0x7facb8103eb8>,\n",
              "  <matplotlib.patches.Rectangle at 0x7facb808f550>,\n",
              "  <matplotlib.patches.Rectangle at 0x7facb808fba8>,\n",
              "  <matplotlib.patches.Rectangle at 0x7facb809b240>,\n",
              "  <matplotlib.patches.Rectangle at 0x7facb809b898>,\n",
              "  <matplotlib.patches.Rectangle at 0x7facb809bef0>,\n",
              "  <matplotlib.patches.Rectangle at 0x7facb80a8588>,\n",
              "  <matplotlib.patches.Rectangle at 0x7facb80a8be0>,\n",
              "  <matplotlib.patches.Rectangle at 0x7facb80b5278>,\n",
              "  <matplotlib.patches.Rectangle at 0x7facb80b58d0>,\n",
              "  <matplotlib.patches.Rectangle at 0x7facb80b5f28>,\n",
              "  <matplotlib.patches.Rectangle at 0x7facb80c15c0>,\n",
              "  <matplotlib.patches.Rectangle at 0x7facb80c1c18>,\n",
              "  <matplotlib.patches.Rectangle at 0x7facb804e2b0>,\n",
              "  <matplotlib.patches.Rectangle at 0x7facb804e908>,\n",
              "  <matplotlib.patches.Rectangle at 0x7facb804ef60>,\n",
              "  <matplotlib.patches.Rectangle at 0x7facb805a5f8>,\n",
              "  <matplotlib.patches.Rectangle at 0x7facb805ac50>,\n",
              "  <matplotlib.patches.Rectangle at 0x7facb80662e8>,\n",
              "  <matplotlib.patches.Rectangle at 0x7facb8066940>,\n",
              "  <matplotlib.patches.Rectangle at 0x7facb8066f98>,\n",
              "  <matplotlib.patches.Rectangle at 0x7facb80b2630>,\n",
              "  <matplotlib.patches.Rectangle at 0x7facb80b2c88>,\n",
              "  <matplotlib.patches.Rectangle at 0x7facb807f320>,\n",
              "  <matplotlib.patches.Rectangle at 0x7facb807f978>,\n",
              "  <matplotlib.patches.Rectangle at 0x7facb807ffd0>,\n",
              "  <matplotlib.patches.Rectangle at 0x7facb808b668>,\n",
              "  <matplotlib.patches.Rectangle at 0x7facb808bcc0>,\n",
              "  <matplotlib.patches.Rectangle at 0x7facb8017358>,\n",
              "  <matplotlib.patches.Rectangle at 0x7facb80179b0>,\n",
              "  <matplotlib.patches.Rectangle at 0x7facb8025048>,\n",
              "  <matplotlib.patches.Rectangle at 0x7facb80256a0>,\n",
              "  <matplotlib.patches.Rectangle at 0x7facb8025cf8>,\n",
              "  <matplotlib.patches.Rectangle at 0x7facb8031390>,\n",
              "  <matplotlib.patches.Rectangle at 0x7facb80319e8>,\n",
              "  <matplotlib.patches.Rectangle at 0x7facb803e080>,\n",
              "  <matplotlib.patches.Rectangle at 0x7facb803e6d8>,\n",
              "  <matplotlib.patches.Rectangle at 0x7facb803ed30>,\n",
              "  <matplotlib.patches.Rectangle at 0x7facb804a3c8>,\n",
              "  <matplotlib.patches.Rectangle at 0x7facb804aa20>,\n",
              "  <matplotlib.patches.Rectangle at 0x7facb7fd60b8>,\n",
              "  <matplotlib.patches.Rectangle at 0x7facb7fd6710>,\n",
              "  <matplotlib.patches.Rectangle at 0x7facb7fd6d68>,\n",
              "  <matplotlib.patches.Rectangle at 0x7facb7fe2400>,\n",
              "  <matplotlib.patches.Rectangle at 0x7facb7fe2a58>,\n",
              "  <matplotlib.patches.Rectangle at 0x7facb7fee0f0>,\n",
              "  <matplotlib.patches.Rectangle at 0x7facb7fee748>,\n",
              "  <matplotlib.patches.Rectangle at 0x7facb7feeda0>,\n",
              "  <matplotlib.patches.Rectangle at 0x7facb7ffa438>,\n",
              "  <matplotlib.patches.Rectangle at 0x7facb7ffaa90>,\n",
              "  <matplotlib.patches.Rectangle at 0x7facb8008128>,\n",
              "  <matplotlib.patches.Rectangle at 0x7facb8008780>,\n",
              "  <matplotlib.patches.Rectangle at 0x7facb8008dd8>,\n",
              "  <matplotlib.patches.Rectangle at 0x7facb7f94470>,\n",
              "  <matplotlib.patches.Rectangle at 0x7facb7f94ac8>,\n",
              "  <matplotlib.patches.Rectangle at 0x7facb7fa1160>,\n",
              "  <matplotlib.patches.Rectangle at 0x7facb7fa17b8>,\n",
              "  <matplotlib.patches.Rectangle at 0x7facb7fa1e10>,\n",
              "  <matplotlib.patches.Rectangle at 0x7facb7fac4a8>,\n",
              "  <matplotlib.patches.Rectangle at 0x7facb7facb00>,\n",
              "  <matplotlib.patches.Rectangle at 0x7facb7fb9198>,\n",
              "  <matplotlib.patches.Rectangle at 0x7facb7fb97f0>,\n",
              "  <matplotlib.patches.Rectangle at 0x7facb7fb9e10>,\n",
              "  <matplotlib.patches.Rectangle at 0x7facb7fc5470>,\n",
              "  <matplotlib.patches.Rectangle at 0x7facb7fc5a90>,\n",
              "  <matplotlib.patches.Rectangle at 0x7facb7f530f0>,\n",
              "  <matplotlib.patches.Rectangle at 0x7facb7f53710>,\n",
              "  <matplotlib.patches.Rectangle at 0x7facb7f53d30>,\n",
              "  <matplotlib.patches.Rectangle at 0x7facb7f5e390>,\n",
              "  <matplotlib.patches.Rectangle at 0x7facb7f5e9b0>,\n",
              "  <matplotlib.patches.Rectangle at 0x7facb7f5efd0>,\n",
              "  <matplotlib.patches.Rectangle at 0x7facb7f6d630>,\n",
              "  <matplotlib.patches.Rectangle at 0x7facb7f6dc50>,\n",
              "  <matplotlib.patches.Rectangle at 0x7facb7f7c2b0>,\n",
              "  <matplotlib.patches.Rectangle at 0x7facb7f7c8d0>,\n",
              "  <matplotlib.patches.Rectangle at 0x7facb7f7cef0>,\n",
              "  <matplotlib.patches.Rectangle at 0x7facb7f86550>,\n",
              "  <matplotlib.patches.Rectangle at 0x7facb7f86b70>,\n",
              "  <matplotlib.patches.Rectangle at 0x7facb7f141d0>,\n",
              "  <matplotlib.patches.Rectangle at 0x7facb7f147f0>,\n",
              "  <matplotlib.patches.Rectangle at 0x7facb7f14e10>,\n",
              "  <matplotlib.patches.Rectangle at 0x7facb7f22470>,\n",
              "  <matplotlib.patches.Rectangle at 0x7facb7f22a90>,\n",
              "  <matplotlib.patches.Rectangle at 0x7facb7f300f0>,\n",
              "  <matplotlib.patches.Rectangle at 0x7facb7f30710>,\n",
              "  <matplotlib.patches.Rectangle at 0x7facb7f30d30>,\n",
              "  <matplotlib.patches.Rectangle at 0x7facb7f3a390>,\n",
              "  <matplotlib.patches.Rectangle at 0x7facb7f3a9b0>,\n",
              "  <matplotlib.patches.Rectangle at 0x7facb7f3afd0>,\n",
              "  <matplotlib.patches.Rectangle at 0x7facb7f49630>,\n",
              "  <matplotlib.patches.Rectangle at 0x7facb7f49c50>,\n",
              "  <matplotlib.patches.Rectangle at 0x7facb7ed62b0>,\n",
              "  <matplotlib.patches.Rectangle at 0x7facb7ed68d0>,\n",
              "  <matplotlib.patches.Rectangle at 0x7facb7ed6ef0>,\n",
              "  <matplotlib.patches.Rectangle at 0x7facb7ee3550>,\n",
              "  <matplotlib.patches.Rectangle at 0x7facb7ee3b70>,\n",
              "  <matplotlib.patches.Rectangle at 0x7facb7ef01d0>,\n",
              "  <matplotlib.patches.Rectangle at 0x7facb7ef07f0>,\n",
              "  <matplotlib.patches.Rectangle at 0x7facb7ef0e10>,\n",
              "  <matplotlib.patches.Rectangle at 0x7facb7efc470>,\n",
              "  <matplotlib.patches.Rectangle at 0x7facb7efca90>,\n",
              "  <matplotlib.patches.Rectangle at 0x7facb7f090f0>,\n",
              "  <matplotlib.patches.Rectangle at 0x7facb7f09710>,\n",
              "  <matplotlib.patches.Rectangle at 0x7facb7f09d30>,\n",
              "  <matplotlib.patches.Rectangle at 0x7facb7e97390>,\n",
              "  <matplotlib.patches.Rectangle at 0x7facb7e979b0>,\n",
              "  <matplotlib.patches.Rectangle at 0x7facb7e97fd0>,\n",
              "  <matplotlib.patches.Rectangle at 0x7facb7ea3630>,\n",
              "  <matplotlib.patches.Rectangle at 0x7facb7ea3c50>,\n",
              "  <matplotlib.patches.Rectangle at 0x7facb7eb22b0>,\n",
              "  <matplotlib.patches.Rectangle at 0x7facb7eb28d0>,\n",
              "  <matplotlib.patches.Rectangle at 0x7facb7eb2ef0>,\n",
              "  <matplotlib.patches.Rectangle at 0x7facb7ebe550>,\n",
              "  <matplotlib.patches.Rectangle at 0x7facb7ebeb70>,\n",
              "  <matplotlib.patches.Rectangle at 0x7facb7ecc1d0>,\n",
              "  <matplotlib.patches.Rectangle at 0x7facb7ecc7f0>,\n",
              "  <matplotlib.patches.Rectangle at 0x7facb7ecce10>,\n",
              "  <matplotlib.patches.Rectangle at 0x7facb7e58470>,\n",
              "  <matplotlib.patches.Rectangle at 0x7facb7e58a90>,\n",
              "  <matplotlib.patches.Rectangle at 0x7facb7e660f0>,\n",
              "  <matplotlib.patches.Rectangle at 0x7facb7e66710>,\n",
              "  <matplotlib.patches.Rectangle at 0x7facb7e66d30>,\n",
              "  <matplotlib.patches.Rectangle at 0x7facb7e72390>,\n",
              "  <matplotlib.patches.Rectangle at 0x7facb7e729b0>,\n",
              "  <matplotlib.patches.Rectangle at 0x7facb7e72fd0>,\n",
              "  <matplotlib.patches.Rectangle at 0x7facb7e7e630>,\n",
              "  <matplotlib.patches.Rectangle at 0x7facb7e7ec50>,\n",
              "  <matplotlib.patches.Rectangle at 0x7facb7e8b2b0>,\n",
              "  <matplotlib.patches.Rectangle at 0x7facb7e8b8d0>,\n",
              "  <matplotlib.patches.Rectangle at 0x7facb7e8bef0>,\n",
              "  <matplotlib.patches.Rectangle at 0x7facb7e19550>,\n",
              "  <matplotlib.patches.Rectangle at 0x7facb7e19b70>,\n",
              "  <matplotlib.patches.Rectangle at 0x7facb7e281d0>,\n",
              "  <matplotlib.patches.Rectangle at 0x7facb7e287f0>,\n",
              "  <matplotlib.patches.Rectangle at 0x7facb7e28e10>,\n",
              "  <matplotlib.patches.Rectangle at 0x7facb7e34470>,\n",
              "  <matplotlib.patches.Rectangle at 0x7facb7e34a90>,\n",
              "  <matplotlib.patches.Rectangle at 0x7facb7e430f0>,\n",
              "  <matplotlib.patches.Rectangle at 0x7facb7e43710>,\n",
              "  <matplotlib.patches.Rectangle at 0x7facb7e43d30>,\n",
              "  <matplotlib.patches.Rectangle at 0x7facb7dce390>,\n",
              "  <matplotlib.patches.Rectangle at 0x7facb7dce9b0>,\n",
              "  <matplotlib.patches.Rectangle at 0x7facb7dcefd0>,\n",
              "  <matplotlib.patches.Rectangle at 0x7facb7ddb630>,\n",
              "  <matplotlib.patches.Rectangle at 0x7facb7ddbc50>,\n",
              "  <matplotlib.patches.Rectangle at 0x7facb7de92b0>,\n",
              "  <matplotlib.patches.Rectangle at 0x7facb7de98d0>,\n",
              "  <matplotlib.patches.Rectangle at 0x7facb7de9ef0>,\n",
              "  <matplotlib.patches.Rectangle at 0x7facb7df5550>,\n",
              "  <matplotlib.patches.Rectangle at 0x7facb7df5b70>,\n",
              "  <matplotlib.patches.Rectangle at 0x7facb7e011d0>,\n",
              "  <matplotlib.patches.Rectangle at 0x7facb7e017f0>,\n",
              "  <matplotlib.patches.Rectangle at 0x7facb7e01e10>,\n",
              "  <matplotlib.patches.Rectangle at 0x7facb7d8e470>,\n",
              "  <matplotlib.patches.Rectangle at 0x7facb7d8ea90>,\n",
              "  <matplotlib.patches.Rectangle at 0x7facb7d9f0f0>,\n",
              "  <matplotlib.patches.Rectangle at 0x7facb7d9f710>,\n",
              "  <matplotlib.patches.Rectangle at 0x7facb7d9fd30>,\n",
              "  <matplotlib.patches.Rectangle at 0x7facb7dab390>,\n",
              "  <matplotlib.patches.Rectangle at 0x7facb7dab9b0>,\n",
              "  <matplotlib.patches.Rectangle at 0x7facb7dabfd0>,\n",
              "  <matplotlib.patches.Rectangle at 0x7facb7db7630>,\n",
              "  <matplotlib.patches.Rectangle at 0x7facb7db7c50>,\n",
              "  <matplotlib.patches.Rectangle at 0x7facb7dc32b0>,\n",
              "  <matplotlib.patches.Rectangle at 0x7facb7dc38d0>,\n",
              "  <matplotlib.patches.Rectangle at 0x7facb7dc3ef0>,\n",
              "  <matplotlib.patches.Rectangle at 0x7facb7d4f550>,\n",
              "  <matplotlib.patches.Rectangle at 0x7facb7d4fb70>,\n",
              "  <matplotlib.patches.Rectangle at 0x7facb7d5f1d0>,\n",
              "  <matplotlib.patches.Rectangle at 0x7facb7d5f7f0>,\n",
              "  <matplotlib.patches.Rectangle at 0x7facb7d5fe10>,\n",
              "  <matplotlib.patches.Rectangle at 0x7facb7d6a470>,\n",
              "  <matplotlib.patches.Rectangle at 0x7facb7d6aa90>,\n",
              "  <matplotlib.patches.Rectangle at 0x7facb7d780f0>,\n",
              "  <matplotlib.patches.Rectangle at 0x7facb7d78710>,\n",
              "  <matplotlib.patches.Rectangle at 0x7facb7d78d30>,\n",
              "  <matplotlib.patches.Rectangle at 0x7facb7d84390>,\n",
              "  <matplotlib.patches.Rectangle at 0x7facb7d849b0>,\n",
              "  <matplotlib.patches.Rectangle at 0x7facb7d84fd0>,\n",
              "  <matplotlib.patches.Rectangle at 0x7facb7d12630>,\n",
              "  <matplotlib.patches.Rectangle at 0x7facb7d12c50>,\n",
              "  <matplotlib.patches.Rectangle at 0x7facb7d212b0>,\n",
              "  <matplotlib.patches.Rectangle at 0x7facb7d218d0>,\n",
              "  <matplotlib.patches.Rectangle at 0x7facb7d21ef0>,\n",
              "  <matplotlib.patches.Rectangle at 0x7facb7d2e550>,\n",
              "  <matplotlib.patches.Rectangle at 0x7facb7d2eb70>,\n",
              "  <matplotlib.patches.Rectangle at 0x7facb7d3a1d0>,\n",
              "  <matplotlib.patches.Rectangle at 0x7facb7d3a7f0>,\n",
              "  <matplotlib.patches.Rectangle at 0x7facb7d3ae10>,\n",
              "  <matplotlib.patches.Rectangle at 0x7facb7d46470>,\n",
              "  <matplotlib.patches.Rectangle at 0x7facb7d46a90>,\n",
              "  <matplotlib.patches.Rectangle at 0x7facb7cd30f0>,\n",
              "  <matplotlib.patches.Rectangle at 0x7facb7cd3710>,\n",
              "  <matplotlib.patches.Rectangle at 0x7facb7cd3d30>,\n",
              "  <matplotlib.patches.Rectangle at 0x7facb7ce0390>,\n",
              "  <matplotlib.patches.Rectangle at 0x7facb7ce09b0>,\n",
              "  <matplotlib.patches.Rectangle at 0x7facb7ce0fd0>,\n",
              "  <matplotlib.patches.Rectangle at 0x7facb7cee630>,\n",
              "  <matplotlib.patches.Rectangle at 0x7facb7ceec50>,\n",
              "  <matplotlib.patches.Rectangle at 0x7facb7cfc2b0>,\n",
              "  <matplotlib.patches.Rectangle at 0x7facb7cfc8d0>,\n",
              "  <matplotlib.patches.Rectangle at 0x7facb7cfcef0>,\n",
              "  <matplotlib.patches.Rectangle at 0x7facb7d07550>,\n",
              "  <matplotlib.patches.Rectangle at 0x7facb7d07b70>,\n",
              "  <matplotlib.patches.Rectangle at 0x7facb7c951d0>,\n",
              "  <matplotlib.patches.Rectangle at 0x7facb7c957f0>,\n",
              "  <matplotlib.patches.Rectangle at 0x7facb7c95e10>,\n",
              "  <matplotlib.patches.Rectangle at 0x7facb7ca1470>,\n",
              "  <matplotlib.patches.Rectangle at 0x7facb7ca1a90>,\n",
              "  <matplotlib.patches.Rectangle at 0x7facb7cb10f0>,\n",
              "  <matplotlib.patches.Rectangle at 0x7facb7cb1710>,\n",
              "  <matplotlib.patches.Rectangle at 0x7facb7cb1d30>,\n",
              "  <matplotlib.patches.Rectangle at 0x7facb7cbc390>,\n",
              "  <matplotlib.patches.Rectangle at 0x7facb7cbc9b0>])"
            ]
          },
          "metadata": {
            "tags": []
          },
          "execution_count": 23
        },
        {
          "output_type": "display_data",
          "data": {
            "image/png": "[encoded data removed]",
            "text/plain": [
              "<Figure size 1440x720 with 1 Axes>"
            ]
          },
          "metadata": {
            "tags": []
          }
        }
      ]
    },
    {
      "cell_type": "markdown",
      "metadata": {
        "id": "wklDikFTBX4u",
        "colab_type": "text"
      },
      "source": [
        "#JAX"
      ]
    },
    {
      "cell_type": "markdown",
      "metadata": {
        "id": "VHzPPapNBZ5G",
        "colab_type": "text"
      },
      "source": [
        ""
      ]
    },
    {
      "cell_type": "code",
      "metadata": {
        "id": "txEVqBbWBabb",
        "colab_type": "code",
        "colab": {}
      },
      "source": [
        "import jax.numpy as np\n",
        "from jax.experimental import optimizers\n",
        "from jax import grad, jit, vmap\n",
        "from jax import random\n",
        "import itertools\n",
        "import time\n",
        "\n",
        "key = random.PRNGKey(0)"
      ],
      "execution_count": 0,
      "outputs": []
    },
    {
      "cell_type": "code",
      "metadata": {
        "id": "9iQME-MJCyM_",
        "colab_type": "code",
        "colab": {}
      },
      "source": [
        "df1_close = df1['BUD']['close']"
      ],
      "execution_count": 0,
      "outputs": []
    },
    {
      "cell_type": "code",
      "metadata": {
        "id": "V7N_wgm9EyVo",
        "colab_type": "code",
        "colab": {}
      },
      "source": [
        "df2_close = df2['BREW']['close']"
      ],
      "execution_count": 0,
      "outputs": []
    },
    {
      "cell_type": "code",
      "metadata": {
        "id": "RC79jRwTebPw",
        "colab_type": "code",
        "colab": {}
      },
      "source": [
        "df3_close = df3['DEO']['close']"
      ],
      "execution_count": 0,
      "outputs": []
    },
    {
      "cell_type": "code",
      "metadata": {
        "id": "5HJ2ILsOebk2",
        "colab_type": "code",
        "colab": {}
      },
      "source": [
        "df4_close = df4['PFE']['close']"
      ],
      "execution_count": 0,
      "outputs": []
    },
    {
      "cell_type": "markdown",
      "metadata": {
        "id": "7q7Vs7xB9CMJ",
        "colab_type": "text"
      },
      "source": [
        "Dynamic"
      ]
    },
    {
      "cell_type": "code",
      "metadata": {
        "colab_type": "code",
        "id": "uLd3ZuKl-1Dw",
        "colab": {}
      },
      "source": [
        "#linear regression to create predicted outcomes\n",
        "def predict_multi(params, ticker_data_array):\n",
        "  "
      ],
      "execution_count": 0,
      "outputs": []
    },
    {
      "cell_type": "code",
      "metadata": {
        "id": "ftO_n406E-6C",
        "colab_type": "code",
        "colab": {}
      },
      "source": [
        "#linear regression to create predicted outcomes\n",
        "def predict(params, ticker_data):\n",
        "    c1, c2, c3, b = params\n",
        "    return c1 * np.power(ticker_data,3) + c2 * np.power(ticker_data,2) + c3 *ticker_data + b\n",
        "\n",
        "#linear regressions using multiple stocks to created predicted outcomes\n",
        "def predict2(params, ticker_data1, ticker_data2, ticker_data3):\n",
        "  c1, c2, c3, b = params\n",
        "  return c1 * ticker_data1 + c2 * ticker_data2 + c3 * ticker_data3 + b\n",
        "\n",
        "#Data set\n",
        "targets = df1_close.to_numpy()\n",
        "inputs = df2_close.to_numpy()\n",
        "\n",
        "inputs1 = df2_close.to_numpy()\n",
        "inputs2 = df3_close.to_numpy()\n",
        "inputs3 = df4_close.to_numpy()\n",
        "\n",
        "# Sum of difference between predictions and targets\n",
        "def loss(params, inputs, targets):\n",
        "    preds = predict(params, inputs)\n",
        "    dif = preds - targets\n",
        "    return np.abs(np.sum(dif))\n",
        "\n",
        "def loss2(params, input1, input2, input3, targets):\n",
        "    preds = predict2(params, input1, input2, input3)\n",
        "    dif = preds - targets\n",
        "    return np.abs(np.sum(dif))\n",
        "\n",
        "# Initialize random model coefficients\n",
        "def init_random_param(key):\n",
        "  key, c1_key, c2_key, b_key = random.split(key, 4)\n",
        "\n",
        "  return random.normal(key,(4,))"
      ],
      "execution_count": 0,
      "outputs": []
    },
    {
      "cell_type": "code",
      "metadata": {
        "id": "FJ5rJbbccC_A",
        "colab_type": "code",
        "outputId": "1d2eb560-ccab-431a-a942-8a8077431dc7",
        "colab": {
          "base_uri": "https://localhost:8080/",
          "height": 34
        }
      },
      "source": [
        ""
      ],
      "execution_count": 0,
      "outputs": [
        {
          "output_type": "execute_result",
          "data": {
            "text/plain": [
              "DeviceArray([ 1.81608629, -0.48262316,  0.33988908], dtype=float32)"
            ]
          },
          "metadata": {
            "tags": []
          },
          "execution_count": 53
        }
      ]
    },
    {
      "cell_type": "code",
      "metadata": {
        "id": "8k773PsuBt-U",
        "colab_type": "code",
        "outputId": "2435b0cc-f674-4181-dc0e-64b59a98638a",
        "colab": {
          "base_uri": "https://localhost:8080/",
          "height": 34
        }
      },
      "source": [
        "# Differentiate `loss` with respect to the first positional argument:\n",
        "param = init_random_param(key)\n",
        "params_grad = grad(loss)(param, inputs, targets)\n",
        "print('params_grad', params_grad)\n"
      ],
      "execution_count": 0,
      "outputs": [
        {
          "output_type": "stream",
          "text": [
            "params_grad [-4.0788788e+06 -2.4254488e+05 -1.5073790e+04 -1.0000000e+03]\n"
          ],
          "name": "stdout"
        }
      ]
    },
    {
      "cell_type": "code",
      "metadata": {
        "id": "mBymudHY3iKI",
        "colab_type": "code",
        "colab": {}
      },
      "source": [
        "step_size = 0.0001\n",
        "num_epochs = 1000\n",
        "batch_size = 128\n",
        "momentum_mass = 0.9"
      ],
      "execution_count": 0,
      "outputs": []
    },
    {
      "cell_type": "code",
      "metadata": {
        "id": "vq0yvmFcBy_P",
        "colab_type": "code",
        "colab": {}
      },
      "source": [
        "opt_init, opt_update, get_params = optimizers.momentum(step_size, mass=momentum_mass)"
      ],
      "execution_count": 0,
      "outputs": []
    },
    {
      "cell_type": "code",
      "metadata": {
        "id": "4lVggP2f3z5o",
        "colab_type": "code",
        "outputId": "ef119cfe-a3e7-41d7-b545-85e321daef34",
        "colab": {
          "base_uri": "https://localhost:8080/",
          "height": 283
        }
      },
      "source": [
        "@jit\n",
        "def update(i, opt_state, inputs, targets):\n",
        "  params = get_params(opt_state)\n",
        "  return opt_update(i, grad(loss)(params, inputs, targets), opt_state)\n",
        "\n",
        "init_params = init_random_param(key)\n",
        "opt_state = opt_init(init_params)\n",
        "itercount = itertools.count()\n",
        "\n",
        "print(\"init_params\", init_params)\n",
        "\n",
        "loss_history = []\n",
        "\n",
        "print(\"\\nStarting training...\")\n",
        "for epoch in range(num_epochs):\n",
        "  start_time = time.time()\n",
        "  opt_state = update(next(itercount), opt_state, inputs, targets)\n",
        "  epoch_time = time.time() - start_time\n",
        "\n",
        "  params = get_params(opt_state)\n",
        "  #print(\"params\", params)\n",
        "  train_acc = loss(params, inputs, targets)\n",
        "  test_acc = loss(params, inputs, targets)\n",
        "  loss_history.append(train_acc)\n",
        "  #print(\"Epoch {} in {:0.2f} sec\".format(epoch, epoch_time))\n",
        "  #print(\"Training set accuracy {}\".format(train_acc))\n",
        "  #print(\"Test set accuracy {}\".format(test_acc))\n",
        "\n",
        "plt.plot(loss_history)\n",
        "plt.figure()\n",
        "plt.plot(targets)\n",
        "plt.figure()\n",
        "plt.plot(predict(get_params(opt_state), inputs))"
      ],
      "execution_count": 0,
      "outputs": [
        {
          "output_type": "stream",
          "text": [
            "init_params [-0.486901    0.44806498 -1.4662383  -2.1836991 ]\n",
            "\n",
            "Starting training...\n"
          ],
          "name": "stdout"
        },
        {
          "output_type": "error",
          "ename": "NameError",
          "evalue": "ignored",
          "traceback": [
            "\u001b[0;31m---------------------------------------------------------------------------\u001b[0m",
            "\u001b[0;31mNameError\u001b[0m                                 Traceback (most recent call last)",
            "\u001b[0;32m<ipython-input-16-6d04cafd2764>\u001b[0m in \u001b[0;36m<module>\u001b[0;34m()\u001b[0m\n\u001b[1;32m     27\u001b[0m   \u001b[0;31m#print(\"Test set accuracy {}\".format(test_acc))\u001b[0m\u001b[0;34m\u001b[0m\u001b[0;34m\u001b[0m\u001b[0;34m\u001b[0m\u001b[0m\n\u001b[1;32m     28\u001b[0m \u001b[0;34m\u001b[0m\u001b[0m\n\u001b[0;32m---> 29\u001b[0;31m \u001b[0mplt\u001b[0m\u001b[0;34m.\u001b[0m\u001b[0mplot\u001b[0m\u001b[0;34m(\u001b[0m\u001b[0mloss_history\u001b[0m\u001b[0;34m)\u001b[0m\u001b[0;34m\u001b[0m\u001b[0;34m\u001b[0m\u001b[0m\n\u001b[0m\u001b[1;32m     30\u001b[0m \u001b[0mplt\u001b[0m\u001b[0;34m.\u001b[0m\u001b[0mfigure\u001b[0m\u001b[0;34m(\u001b[0m\u001b[0;34m)\u001b[0m\u001b[0;34m\u001b[0m\u001b[0;34m\u001b[0m\u001b[0m\n\u001b[1;32m     31\u001b[0m \u001b[0mplt\u001b[0m\u001b[0;34m.\u001b[0m\u001b[0mplot\u001b[0m\u001b[0;34m(\u001b[0m\u001b[0mtargets\u001b[0m\u001b[0;34m)\u001b[0m\u001b[0;34m\u001b[0m\u001b[0;34m\u001b[0m\u001b[0m\n",
            "\u001b[0;31mNameError\u001b[0m: name 'plt' is not defined"
          ]
        }
      ]
    },
    {
      "cell_type": "code",
      "metadata": {
        "colab_type": "code",
        "outputId": "e2b62058-df5d-411b-a361-798421e9d078",
        "id": "keoFmykXA0eE",
        "colab": {
          "base_uri": "https://localhost:8080/",
          "height": 581
        }
      },
      "source": [
        "@jit\n",
        "def update(i, opt_state, inputs1, inputs2, inputs3, targets):\n",
        "  params = get_params(opt_state)\n",
        "  return opt_update(i, grad(loss2)(params, inputs1, inputs2, inputs3, targets), opt_state)\n",
        "\n",
        "init_params = init_random_param(key)\n",
        "opt_state = opt_init(init_params)\n",
        "itercount = itertools.count()\n",
        "\n",
        "print(\"init_params\", init_params)\n",
        "\n",
        "loss_history = []\n",
        "\n",
        "print(\"\\nStarting training...\")\n",
        "for epoch in range(num_epochs):\n",
        "  start_time = time.time()\n",
        "  opt_state = update(next(itercount), opt_state, inputs1, inputs2, inputs3, targets)\n",
        "  epoch_time = time.time() - start_time\n",
        "\n",
        "  params = get_params(opt_state)\n",
        "  #print(\"params\", params)\n",
        "  train_acc = loss2(params, inputs1, inputs2, inputs3, targets)\n",
        "  test_acc = loss2(params, inputs1, inputs2, inputs3, targets)\n",
        "  loss_history.append(train_acc)\n",
        "  #print(\"Epoch {} in {:0.2f} sec\".format(epoch, epoch_time))\n",
        "  #print(\"Training set accuracy {}\".format(train_acc))\n",
        "  #print(\"Test set accuracy {}\".format(test_acc))\n",
        "\n",
        "plt.plot(loss_history)\n",
        "plt.figure()\n",
        "plt.plot(targets)\n",
        "plt.plot(predict2(get_params(opt_state), inputs1, inputs2, inputs3))"
      ],
      "execution_count": 0,
      "outputs": [
        {
          "output_type": "stream",
          "text": [
            "init_params [-0.486901    0.44806498 -1.4662383  -2.1836991 ]\n",
            "\n",
            "Starting training...\n"
          ],
          "name": "stdout"
        },
        {
          "output_type": "execute_result",
          "data": {
            "text/plain": [
              "[<matplotlib.lines.Line2D at 0x7facb7288630>]"
            ]
          },
          "metadata": {
            "tags": []
          },
          "execution_count": 51
        },
        {
          "output_type": "display_data",
          "data": {
            "image/png": "[encoded data removed]",
            "text/plain": [
              "<Figure size 432x288 with 1 Axes>"
            ]
          },
          "metadata": {
            "tags": []
          }
        },
        {
          "output_type": "display_data",
          "data": {
            "image/png": "[encoded data removed]",
            "text/plain": [
              "<Figure size 432x288 with 1 Axes>"
            ]
          },
          "metadata": {
            "tags": []
          }
        }
      ]
    },
    {
      "cell_type": "markdown",
      "metadata": {
        "id": "oGHfvW9WD-Tk",
        "colab_type": "text"
      },
      "source": [
        "GOALS - bundle up current stuff we have so that you can just feed a list of ticker symbols"
      ]
    },
    {
      "cell_type": "code",
      "metadata": {
        "id": "5KpXkwcjB5CK",
        "colab_type": "code",
        "colab": {}
      },
      "source": [
        ""
      ],
      "execution_count": 0,
      "outputs": []
    }
  ]
}